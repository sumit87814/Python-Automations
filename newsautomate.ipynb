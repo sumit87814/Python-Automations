{
 "cells": [
  {
   "cell_type": "code",
   "execution_count": 1,
   "metadata": {},
   "outputs": [
    {
     "name": "stdout",
     "output_type": "stream",
     "text": [
      "Title: Ipswich man jailed for attack on cop while high on petrol\n",
      "Details: https://www.couriermail.com.au/news/queensland/ipswich/ipswich-man-james-jonathon-johnson-jailed-for-cop-assault-drugs-burglary/news-story/e449a14ff1ffd546a108acee78cecbff\n",
      "Title: பெட்ரோலுக்கு மாற்று வருகிறது மத்திய அரசின் புது திட்டம் ! | Petrol | ethanol | Dinamalar\n",
      "Details: https://www.youtube.com/watch?v=_phBpWJSNH4\n",
      "Title: Petrol Diesel Price, July 19, 2022: Check prices in Mumbai, Delhi and other cities.\n",
      "Details: https://indianexpress.com/article/business/commodities/petrol-diesel-price-today-july-19-2022-delhi-mumbai-bengaluru-chennai-hyderabad-fuel-rates-8038220/\n",
      "Title: Himachal: Landslide hits petrol pump site in Kangra, six labourers injured\n",
      "Details: https://www.hindustantimes.com/cities/chandigarh-news/himachal-landslide-hits-petrol-pump-site-in-kangra-six-labourers-injured-101658211181607.html\n",
      "Title: Thieves who ran out of petrol abandon 2 bikes in Kottayam locality\n",
      "Details: https://english.mathrubhumi.com/news/kerala/thieves-abandon-2-out-of-3-stolen-bikes-in-kottayam-locality-and-the-reason-is-lack-of-petrol-1.7708018\n",
      "Title: 2023 Honda Compact SUV To Likely Use 1.2L Petrol Engine With Hybrid Boost\n",
      "Details: https://gaadiwaadi.com/2023-honda-compact-suv-to-likely-use-1-2l-petrol-engine-with-hybrid-boost/\n",
      "Title: NNPC announces increase in petrol pump price from today\n",
      "Details: https://theeagleonline.com.ng/nnpc-announces-increase-in-petrol-pump-price-from-today/\n",
      "Title: Brent crude trade at $105.6pb, petrol sells for N200pl\n",
      "Details: https://www.blueprint.ng/brent-crude-trade-at-105-6pb-petrol-sells-for-n200pl/\n",
      "Title: Electric vehicles in India more polluting than petrol/diesel ones: Study\n",
      "Details: https://timesofindia.indiatimes.com/auto/policy-and-industry/electric-vehicles-in-india-more-polluting-than-petrol/diesel-ones-study/articleshow/92970794.cms\n",
      "Title: Petrol Price Today Announced: Check Fuel Rates in Mumbai, Delhi, Kolkata, Other Cities\n",
      "Details: https://www.news18.com/news/business/petrol-price-today-announced-check-fuel-rates-in-mumbai-delhi-kolkata-other-cities-5581927.html\n"
     ]
    }
   ],
   "source": [
    "from GoogleNews import GoogleNews\n",
    "import pandas as pd\n",
    "Gnews =GoogleNews(period='1d')\n",
    "Gnews.search(\"petrol\") \n",
    "result =Gnews.result()\n",
    "data = pd.DataFrame.from_dict(result)\n",
    "data.head()\n",
    "\n",
    "for res in result:\n",
    "    print(\"Title:\", res[\"title\"])\n",
    "    print(\"Details:\", res[\"link\"])\n"
   ]
  },
  {
   "cell_type": "code",
   "execution_count": null,
   "metadata": {},
   "outputs": [],
   "source": []
  }
 ],
 "metadata": {
  "kernelspec": {
   "display_name": "Python 3.9.5 64-bit",
   "language": "python",
   "name": "python3"
  },
  "language_info": {
   "codemirror_mode": {
    "name": "ipython",
    "version": 3
   },
   "file_extension": ".py",
   "mimetype": "text/x-python",
   "name": "python",
   "nbconvert_exporter": "python",
   "pygments_lexer": "ipython3",
   "version": "3.9.5"
  },
  "orig_nbformat": 4,
  "vscode": {
   "interpreter": {
    "hash": "e817d3155c3d44ed214bd4eb17c292ab263c8e58021a816d6b372e40b4d29483"
   }
  }
 },
 "nbformat": 4,
 "nbformat_minor": 2
}
